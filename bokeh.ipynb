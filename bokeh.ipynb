{
 "metadata": {
  "name": "",
  "signature": "sha256:9d595e10bbda867262422f6c6d54a86941d511cc06ddefd13cb2e9fe757f9177"
 },
 "nbformat": 3,
 "nbformat_minor": 0,
 "worksheets": [
  {
   "cells": [
    {
     "cell_type": "code",
     "collapsed": false,
     "input": [
      "import bokeh\n",
      "import bokeh.sampledata\n",
      "#bokeh.sampledata.download()"
     ],
     "language": "python",
     "metadata": {},
     "outputs": [],
     "prompt_number": 1
    },
    {
     "cell_type": "code",
     "collapsed": false,
     "input": [
      "from bokeh.plotting import figure, output_file, show\n",
      "\n",
      "# prepare some data\n",
      "x = [1, 2, 3, 4, 5]\n",
      "y = [6, 7, 2, 4, 5]\n",
      "\n",
      "# output to static HTML file\n",
      "output_file(\"lines.html\", title=\"line plot example\")\n",
      "\n",
      "# create a new plot with a title and axis labels\n",
      "p = figure(title=\"simple line example\", x_axis_label='x', y_axis_label='y')\n",
      "\n",
      "# add a line renderer with legend and line thickness\n",
      "p.line(x, y, legend=\"Temp.\", line_width=2)\n",
      "\n",
      "# show the results\n",
      "show(p)"
     ],
     "language": "python",
     "metadata": {},
     "outputs": [],
     "prompt_number": 3
    },
    {
     "cell_type": "code",
     "collapsed": false,
     "input": [
      "from bokeh.plotting import figure, output_file, show\n",
      "\n",
      "# prepare some data\n",
      "x = [0.1, 0.5, 1.0, 1.5, 2.0, 2.5, 3.0]\n",
      "y0 = [x**2 for x in x]\n",
      "y1 = [10**x for x in x]\n",
      "y2 = [10**(x**2) for x in x]\n",
      "\n",
      "# output to static HTML file\n",
      "output_file(\"log_lines.html\")\n",
      "\n",
      "# create a new plot\n",
      "p = figure(\n",
      "   tools=\"pan,box_zoom,reset,save\",\n",
      "   y_axis_type=\"log\", y_range=[0.001, 10**11], title=\"log axis example\",\n",
      "   x_axis_label='sections', y_axis_label='particles'\n",
      ")\n",
      "\n",
      "# add some renderers\n",
      "p.line(x, x, legend=\"y=x\")\n",
      "p.circle(x, x, legend=\"y=x\", fill_color=\"white\", size=8)\n",
      "p.line(x, y0, legend=\"y=x^2\", line_width=3)\n",
      "p.line(x, y1, legend=\"y=10^x\", line_color=\"red\")\n",
      "p.circle(x, y1, legend=\"y=10^x\", fill_color=\"red\", line_color=\"red\", size=6)\n",
      "p.line(x, y2, legend=\"y=10^x^2\", line_color=\"orange\", line_dash=\"4 4\")\n",
      "\n",
      "# show the results\n",
      "show(p)"
     ],
     "language": "python",
     "metadata": {},
     "outputs": [
      {
       "ename": "TypeError",
       "evalue": "'float' object is not iterable",
       "output_type": "pyerr",
       "traceback": [
        "\u001b[0;31m---------------------------------------------------------------------------\u001b[0m\n\u001b[0;31mTypeError\u001b[0m                                 Traceback (most recent call last)",
        "\u001b[0;32m<ipython-input-4-a42828e24e7b>\u001b[0m in \u001b[0;36m<module>\u001b[0;34m()\u001b[0m\n\u001b[1;32m      4\u001b[0m \u001b[0mx\u001b[0m \u001b[0;34m=\u001b[0m \u001b[0;34m[\u001b[0m\u001b[0;36m0.1\u001b[0m\u001b[0;34m,\u001b[0m \u001b[0;36m0.5\u001b[0m\u001b[0;34m,\u001b[0m \u001b[0;36m1.0\u001b[0m\u001b[0;34m,\u001b[0m \u001b[0;36m1.5\u001b[0m\u001b[0;34m,\u001b[0m \u001b[0;36m2.0\u001b[0m\u001b[0;34m,\u001b[0m \u001b[0;36m2.5\u001b[0m\u001b[0;34m,\u001b[0m \u001b[0;36m3.0\u001b[0m\u001b[0;34m]\u001b[0m\u001b[0;34m\u001b[0m\u001b[0m\n\u001b[1;32m      5\u001b[0m \u001b[0my0\u001b[0m \u001b[0;34m=\u001b[0m \u001b[0;34m[\u001b[0m\u001b[0mx\u001b[0m\u001b[0;34m**\u001b[0m\u001b[0;36m2\u001b[0m \u001b[0;32mfor\u001b[0m \u001b[0mx\u001b[0m \u001b[0;32min\u001b[0m \u001b[0mx\u001b[0m\u001b[0;34m]\u001b[0m\u001b[0;34m\u001b[0m\u001b[0m\n\u001b[0;32m----> 6\u001b[0;31m \u001b[0my1\u001b[0m \u001b[0;34m=\u001b[0m \u001b[0;34m[\u001b[0m\u001b[0;36m10\u001b[0m\u001b[0;34m**\u001b[0m\u001b[0mx\u001b[0m \u001b[0;32mfor\u001b[0m \u001b[0mx\u001b[0m \u001b[0;32min\u001b[0m \u001b[0mx\u001b[0m\u001b[0;34m]\u001b[0m\u001b[0;34m\u001b[0m\u001b[0m\n\u001b[0m\u001b[1;32m      7\u001b[0m \u001b[0my2\u001b[0m \u001b[0;34m=\u001b[0m \u001b[0;34m[\u001b[0m\u001b[0;36m10\u001b[0m\u001b[0;34m**\u001b[0m\u001b[0;34m(\u001b[0m\u001b[0mx\u001b[0m\u001b[0;34m**\u001b[0m\u001b[0;36m2\u001b[0m\u001b[0;34m)\u001b[0m \u001b[0;32mfor\u001b[0m \u001b[0mx\u001b[0m \u001b[0;32min\u001b[0m \u001b[0mx\u001b[0m\u001b[0;34m]\u001b[0m\u001b[0;34m\u001b[0m\u001b[0m\n\u001b[1;32m      8\u001b[0m \u001b[0;34m\u001b[0m\u001b[0m\n",
        "\u001b[0;31mTypeError\u001b[0m: 'float' object is not iterable"
       ]
      }
     ],
     "prompt_number": 4
    },
    {
     "cell_type": "code",
     "collapsed": false,
     "input": [
      "import numpy as np\n",
      "\n",
      "from bokeh.plotting import figure, output_file, show\n",
      "\n",
      "# prepare some data\n",
      "N = 4000\n",
      "x = np.random.random(size=N) * 100\n",
      "y = np.random.random(size=N) * 100\n",
      "radii = np.random.random(size=N) * 1.5\n",
      "colors = [\"#%02x%02x%02x\" % (r, g, 150) for r, g in zip(np.floor(50+2*x), np.floor(30+2*y))]\n",
      "\n",
      "# output to static HTML file (with CDN resources)\n",
      "output_file(\"color_scatter.html\", title=\"color_scatter.py example\", mode=\"cdn\")\n",
      "\n",
      "TOOLS=\"resize,crosshair,pan,wheel_zoom,box_zoom,reset,box_select,lasso_select\"\n",
      "\n",
      "# create a new plot with the tools above, and explicit ranges\n",
      "p = figure(tools=TOOLS, x_range=(0,100), y_range=(0,100))\n",
      "\n",
      "# add a circle renderer with vecorized colors and sizes\n",
      "p.circle(x,y, radius=radii, fill_color=colors, fill_alpha=0.6, line_color=None)\n",
      "\n",
      "# show the results\n",
      "show(p)"
     ],
     "language": "python",
     "metadata": {},
     "outputs": [],
     "prompt_number": 3
    },
    {
     "cell_type": "code",
     "collapsed": false,
     "input": [
      "import numpy as np\n",
      "\n",
      "from bokeh.plotting import *\n",
      "\n",
      "N = 1000\n",
      "\n",
      "x = np.linspace(0, 10, N)\n",
      "y = np.linspace(0, 10, N)\n",
      "xx, yy = np.meshgrid(x, y)\n",
      "d = np.sin(xx)*np.cos(yy)\n",
      "\n",
      "output_file(\"image.html\", title=\"image.py example\")\n",
      "\n",
      "p = figure(x_range=[0, 10], y_range=[0, 10])\n",
      "p.image(image=[d], x=[0], y=[0], dw=[10], dh=[10], palette=\"Spectral11\")\n",
      "\n",
      "show(p)  # open a browser"
     ],
     "language": "python",
     "metadata": {},
     "outputs": [],
     "prompt_number": 4
    },
    {
     "cell_type": "code",
     "collapsed": false,
     "input": [],
     "language": "python",
     "metadata": {},
     "outputs": []
    }
   ],
   "metadata": {}
  }
 ]
}